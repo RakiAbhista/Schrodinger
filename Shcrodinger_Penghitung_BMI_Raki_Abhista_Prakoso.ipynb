{
  "nbformat": 4,
  "nbformat_minor": 0,
  "metadata": {
    "colab": {
      "provenance": [],
      "authorship_tag": "ABX9TyNS+wtOZOHWQ18ZZJyWOhpO",
      "include_colab_link": true
    },
    "kernelspec": {
      "name": "python3",
      "display_name": "Python 3"
    },
    "language_info": {
      "name": "python"
    }
  },
  "cells": [
    {
      "cell_type": "markdown",
      "metadata": {
        "id": "view-in-github",
        "colab_type": "text"
      },
      "source": [
        "<a href=\"https://colab.research.google.com/github/RakiAbhista/Schrodinger/blob/main/Shcrodinger_Penghitung_BMI_Raki_Abhista_Prakoso.ipynb\" target=\"_parent\"><img src=\"https://colab.research.google.com/assets/colab-badge.svg\" alt=\"Open In Colab\"/></a>"
      ]
    },
    {
      "cell_type": "code",
      "execution_count": null,
      "metadata": {
        "colab": {
          "base_uri": "https://localhost:8080/"
        },
        "id": "lxoOgnEEnP_H",
        "outputId": "dbeb506a-d67c-4bef-8c69-794d6e24001d"
      },
      "outputs": [
        {
          "name": "stdout",
          "output_type": "stream",
          "text": [
            "Program Menentukan Kategori BMI\n",
            "Masukkan berat (kg): 60\n",
            "Masukkan tinggi (cm): 174\n"
          ]
        }
      ],
      "source": [
        "#Menginput Data yang Dibutuhkan untuk menghitung BMI\n",
        "print(\"Program Menentukan Kategori BMI\")\n",
        "\n",
        "berat = float(input(\"Masukkan berat (kg): \"))\n",
        "tinggi_cm = float(input(\"Masukkan tinggi (cm): \"))"
      ]
    },
    {
      "cell_type": "code",
      "source": [
        "#Menghitung Nilai BMI berdasarkan hasil Input\n",
        "tinggi = tinggi_cm / 100\n",
        "bmi = berat / (tinggi ** 2)"
      ],
      "metadata": {
        "id": "rkcYxfBsp55x"
      },
      "execution_count": null,
      "outputs": []
    },
    {
      "cell_type": "code",
      "source": [
        "#Logic Penentuan Kategori Berdasarkan BMI\n",
        "if bmi < 18.5:\n",
        "    kategori = \"Underweight\"\n",
        "elif bmi >= 18.5 and bmi < 25:\n",
        "    kategori = \"Normal\"\n",
        "elif bmi >= 25 and bmi < 30:\n",
        "    if bmi < 27:              # nested condition\n",
        "        kategori = \"Overweight ringan\"\n",
        "    else:\n",
        "        kategori = \"Overweight\"\n",
        "else:\n",
        "    if bmi >= 30 and bmi < 35:\n",
        "        kategori = \"Obesitas Kelas I\"\n",
        "    elif bmi >= 35 and bmi < 40:\n",
        "        kategori = \"Obesitas Kelas II\"\n",
        "    else:\n",
        "        kategori = \"Obesitas Kelas III\""
      ],
      "metadata": {
        "id": "sHw4q_3Jp8ob"
      },
      "execution_count": null,
      "outputs": []
    },
    {
      "cell_type": "code",
      "source": [
        "#Print Hasil\n",
        "print(\"BMI Anda =\", round(bmi, 2))\n",
        "print(\"Kategori =\", kategori)"
      ],
      "metadata": {
        "colab": {
          "base_uri": "https://localhost:8080/"
        },
        "id": "4zMlX8aMp-5j",
        "outputId": "a6c960c7-2a8c-473c-90a1-feb2941c3887"
      },
      "execution_count": null,
      "outputs": [
        {
          "output_type": "stream",
          "name": "stdout",
          "text": [
            "BMI Anda = 19.82\n",
            "Kategori = Normal\n"
          ]
        }
      ]
    }
  ]
}